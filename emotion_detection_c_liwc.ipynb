{
 "cells": [
  {
   "cell_type": "code",
   "execution_count": 8,
   "id": "243c594b-9603-4ca9-84f9-685be42b12d1",
   "metadata": {},
   "outputs": [
    {
     "name": "stdout",
     "output_type": "stream",
     "text": [
      "Collecting jieba\n",
      "  Downloading jieba-0.42.1.tar.gz (19.2 MB)\n",
      "\u001b[2K     \u001b[90m━━━━━━━━━━━━━━━━━━━━━━━━━━━━━━━━━━━━━━━━\u001b[0m \u001b[32m19.2/19.2 MB\u001b[0m \u001b[31m6.1 MB/s\u001b[0m eta \u001b[36m0:00:00\u001b[0ma \u001b[36m0:00:01\u001b[0m\n",
      "\u001b[?25h  Preparing metadata (setup.py) ... \u001b[?25ldone\n",
      "\u001b[?25hBuilding wheels for collected packages: jieba\n",
      "  Building wheel for jieba (setup.py) ... \u001b[?25ldone\n",
      "\u001b[?25h  Created wheel for jieba: filename=jieba-0.42.1-py3-none-any.whl size=19314458 sha256=87942c7b231ee3781a0d8438a4989d7738e844d050cf596ef94a2feb98196530\n",
      "  Stored in directory: /Users/tmr1137/Library/Caches/pip/wheels/08/a1/a3/5c8ac52cc2f5782ffffc34c95c57c8e5ecb3063dc69541ee7c\n",
      "Successfully built jieba\n",
      "Installing collected packages: jieba\n",
      "Successfully installed jieba-0.42.1\n"
     ]
    }
   ],
   "source": [
    "#!pip install jieba"
   ]
  },
  {
   "cell_type": "code",
   "execution_count": 9,
   "id": "9c01f6a5-1cfc-4387-a5b2-c0380b2c0507",
   "metadata": {},
   "outputs": [
    {
     "name": "stdout",
     "output_type": "stream",
     "text": [
      "Collecting liwc\n",
      "  Downloading liwc-0.5.0-py2.py3-none-any.whl.metadata (2.7 kB)\n",
      "Downloading liwc-0.5.0-py2.py3-none-any.whl (5.1 kB)\n",
      "Installing collected packages: liwc\n",
      "Successfully installed liwc-0.5.0\n"
     ]
    }
   ],
   "source": [
    "#!pip install liwc"
   ]
  },
  {
   "cell_type": "code",
   "execution_count": 46,
   "id": "f5d8d973-b668-4fba-8ac6-4d26ce8a2eab",
   "metadata": {},
   "outputs": [
    {
     "data": {
      "text/plain": [
       "'/Users/tmr1137/Documents'"
      ]
     },
     "execution_count": 46,
     "metadata": {},
     "output_type": "execute_result"
    }
   ],
   "source": [
    "# Get the current working directory (i.e., the folder where this script is being run)\n",
    "import os\n",
    "os.getcwd()"
   ]
  },
  {
   "cell_type": "markdown",
   "id": "d5a7ee89-f65a-4747-bd81-bb8b03d02051",
   "metadata": {},
   "source": [
    "Load the LIWC dictionary"
   ]
  },
  {
   "cell_type": "code",
   "execution_count": 47,
   "id": "6bc05c3a-6957-4353-a929-77d922fcb15c",
   "metadata": {},
   "outputs": [],
   "source": [
    "# Import necessary libraries\n",
    "import jieba # for Chinese word segmentation\n",
    "from collections import Counter, defaultdict # for counting and managing dictionary data structures\n",
    "import json # for loading the LIWC dictionary file (usually in JSON format)"
   ]
  },
  {
   "cell_type": "code",
   "execution_count": 48,
   "id": "41559eb3-1d4d-4aee-910a-155dfc5fe3af",
   "metadata": {},
   "outputs": [],
   "source": [
    "# Category code → category name mapping\n",
    "category_code_to_name = {\n",
    "    \"127\": \"negemo\", # negative emotion\n",
    "    \"130\": \"sad\", # sadness\n",
    "    \"121\": \"social\", # social processes\n",
    "    \"125\": \"cogproc\", # cognitive processes\n",
    "    \"1\": \"i\" # first-person singular pronoun (\"I\")\n",
    "}"
   ]
  },
  {
   "cell_type": "code",
   "execution_count": 49,
   "id": "cec2cf1f-1290-416e-aa24-c4ce6bd41d46",
   "metadata": {},
   "outputs": [],
   "source": [
    "# Load a .dic file and map category codes to category names\n",
    "def load_mapped_liwc(filepath, category_map):\n",
    "    result = defaultdict(list)\n",
    "    with open(filepath, 'r', encoding='utf-8') as f:\n",
    "        for line in f:\n",
    "            parts = line.strip().split()\n",
    "            if len(parts) < 2:\n",
    "                continue # skip lines that don’t have both a word and category codes\n",
    "            word = parts[0]\n",
    "            codes = parts[1:]\n",
    "            for code in codes:\n",
    "                if code in category_map:\n",
    "                    result[category_map[code]].append(word)\n",
    "    return dict(result)\n",
    "\n",
    "# Usage (after running this, liwc_dict will be ready to use)\n",
    "liwc_dict = load_mapped_liwc(\"sc_liwc.dic\", category_code_to_name)"
   ]
  },
  {
   "cell_type": "code",
   "execution_count": 50,
   "id": "502b7b4c-4e0f-451d-b733-46a7924ebcc5",
   "metadata": {},
   "outputs": [],
   "source": [
    "# Analyze a piece of text and calculate LIWC scores\n",
    "def liwc_score(text, liwc_dict):\n",
    "    tokens = list(jieba.cut(text)) # Perform Chinese word segmentation\n",
    "    counter = Counter()\n",
    "    for token in tokens:\n",
    "        for cat, words in liwc_dict.items():\n",
    "            if token in words:\n",
    "                counter[cat] += 1 # Count the token for the corresponding LIWC category\n",
    "    return counter # Returns a dictionary of category counts"
   ]
  },
  {
   "cell_type": "code",
   "execution_count": 51,
   "id": "6eaf4b6a-0262-4ecc-ac87-7b78aa491435",
   "metadata": {},
   "outputs": [],
   "source": [
    "# Multi-turn dialogue analysis (only analyze user input, assuming user speaks on even-numbered lines)\n",
    "def analyze_dialogue_liwc(dialogue, liwc_dict):\n",
    "    results = []\n",
    "    for i, utterance in enumerate(dialogue):\n",
    "        if i % 2 == 0: # Only process even-numbered lines (user input)\n",
    "            score = liwc_score(utterance, liwc_dict)\n",
    "            results.append((utterance, score)) # Store the utterance and its LIWC score\n",
    "    return results # Returns a list of (utterance, score) tuples"
   ]
  },
  {
   "cell_type": "code",
   "execution_count": 52,
   "id": "0e56e91b-d06e-4550-aad7-b921b55ce7db",
   "metadata": {},
   "outputs": [],
   "source": [
    "# Display the analysis results\n",
    "def render_results(results):\n",
    "    for text, score in results:\n",
    "        print(f\"🗣 {text}\") # Print the original user utterance\n",
    "        for k, v in score.items():\n",
    "            print(f\"  {k}: {v}\") # Print each LIWC category and its count\n",
    "        print(\"———\") # Separator between utterances"
   ]
  },
  {
   "cell_type": "code",
   "execution_count": 53,
   "id": "8e0f9acc-42a6-4ac2-982f-80a73a9a03d4",
   "metadata": {},
   "outputs": [
    {
     "name": "stdout",
     "output_type": "stream",
     "text": [
      "🗣 我最近真的很累，什么都不想做。\n",
      "———\n",
      "🗣 也不知道，就是每天都不想起床。\n",
      "  i: 1\n",
      "———\n",
      "🗣 走不动，感觉身体都沉重了。\n",
      "  cogproc: 1\n",
      "  negemo: 1\n",
      "  i: 1\n",
      "———\n",
      "🗣 没有，我不想麻烦别人。\n",
      "  i: 1\n",
      "  cogproc: 1\n",
      "  negemo: 1\n",
      "———\n",
      "🗣 也许你需要去看看心理医生。\n",
      "  social: 1\n",
      "———\n"
     ]
    }
   ],
   "source": [
    "# Example dialogue (user speaks on even-numbered lines)\n",
    "dialogue = [\n",
    "    \"我最近真的很累，什么都不想做。\",\n",
    "    \"为什么会这样？\",\n",
    "    \"也不知道，就是每天都不想起床。\",\n",
    "    \"你有没有试过出去走走？\",\n",
    "    \"走不动，感觉身体都沉重了。\",\n",
    "    \"那你有没有和朋友聊聊？\",\n",
    "    \"没有，我不想麻烦别人。\",\n",
    "    \"我其实一直都觉得很孤独。\",\n",
    "    \"也许你需要去看看心理医生。\",\n",
    "    \"我怕别人觉得我很奇怪。\"\n",
    "]\n",
    "\n",
    "# Run the LIWC analysis on the user input\n",
    "results = analyze_dialogue_liwc(dialogue, liwc_dict)\n",
    "\n",
    "# Display the results\n",
    "render_results(results)"
   ]
  },
  {
   "cell_type": "markdown",
   "id": "0b582d1d-593d-4c19-b6bd-369432317c0d",
   "metadata": {},
   "source": [
    "Debug and refind the C-LIWC dictionary"
   ]
  },
  {
   "cell_type": "code",
   "execution_count": 54,
   "id": "1aa002f0-a637-437c-bf01-ba8058feb452",
   "metadata": {},
   "outputs": [],
   "source": [
    "# optional debug function\n",
    "def debug_liwc_hits(text, liwc_dict):\n",
    "    tokens = list(jieba.cut(text))\n",
    "    match = defaultdict(list)\n",
    "    for token in tokens:\n",
    "        for cat, words in liwc_dict.items():\n",
    "            if token in words:\n",
    "                match[cat].append(token)\n",
    "    return dict(match)"
   ]
  },
  {
   "cell_type": "code",
   "execution_count": 55,
   "id": "e3b9c641-eadb-44ec-82ae-af7cf3b20bd6",
   "metadata": {},
   "outputs": [
    {
     "data": {
      "text/plain": [
       "{'cogproc': ['沉重'], 'negemo': ['沉重'], 'i': ['了']}"
      ]
     },
     "execution_count": 55,
     "metadata": {},
     "output_type": "execute_result"
    }
   ],
   "source": [
    "debug_liwc_hits(\"走不动，感觉身体都沉重了。\", liwc_dict)"
   ]
  },
  {
   "cell_type": "code",
   "execution_count": 56,
   "id": "826cca70-ffe2-4f56-a918-0e5431ae35c9",
   "metadata": {},
   "outputs": [
    {
     "data": {
      "text/plain": [
       "True"
      ]
     },
     "execution_count": 56,
     "metadata": {},
     "output_type": "execute_result"
    }
   ],
   "source": [
    "'了' in liwc_dict['i'] # stopword accidentally detect as first person singular pronoun"
   ]
  }
 ],
 "metadata": {
  "kernelspec": {
   "display_name": "Python [conda env:base] *",
   "language": "python",
   "name": "conda-base-py"
  },
  "language_info": {
   "codemirror_mode": {
    "name": "ipython",
    "version": 3
   },
   "file_extension": ".py",
   "mimetype": "text/x-python",
   "name": "python",
   "nbconvert_exporter": "python",
   "pygments_lexer": "ipython3",
   "version": "3.12.7"
  }
 },
 "nbformat": 4,
 "nbformat_minor": 5
}
